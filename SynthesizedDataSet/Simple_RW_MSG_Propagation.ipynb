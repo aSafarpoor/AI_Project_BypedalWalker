{
  "nbformat": 4,
  "nbformat_minor": 0,
  "metadata": {
    "colab": {
      "provenance": [],
      "authorship_tag": "ABX9TyPicfhF6F/DVvNt8E6aze1S",
      "include_colab_link": true
    },
    "kernelspec": {
      "name": "python3",
      "display_name": "Python 3"
    },
    "language_info": {
      "name": "python"
    }
  },
  "cells": [
    {
      "cell_type": "markdown",
      "metadata": {
        "id": "view-in-github",
        "colab_type": "text"
      },
      "source": [
        "<a href=\"https://colab.research.google.com/github/aSafarpoor/AI_Project_BypedalWalker/blob/master/SynthesizedDataSet/Simple_RW_MSG_Propagation.ipynb\" target=\"_parent\"><img src=\"https://colab.research.google.com/assets/colab-badge.svg\" alt=\"Open In Colab\"/></a>"
      ]
    },
    {
      "cell_type": "code",
      "source": [
        "import os\n",
        "import networkx as nx\n",
        "import numpy as np\n",
        "from tqdm import tqdm\n",
        "import matplotlib.pyplot as plt\n",
        "import random\n",
        "random.seed(1)\n"
      ],
      "metadata": {
        "id": "54904_B4VDM3"
      },
      "execution_count": 21,
      "outputs": []
    },
    {
      "cell_type": "markdown",
      "source": [
        "#read phase"
      ],
      "metadata": {
        "id": "ptMCHF7_WepU"
      }
    },
    {
      "cell_type": "code",
      "execution_count": 8,
      "metadata": {
        "colab": {
          "base_uri": "https://localhost:8080/"
        },
        "id": "eNBsIb11SWVP",
        "outputId": "d02cc69f-6e83-4aff-8e62-fa8e8f2532e8"
      },
      "outputs": [
        {
          "output_type": "stream",
          "name": "stdout",
          "text": [
            "--2024-04-29 05:22:53--  https://github.com/aSafarpoor/storehouse/raw/main/1000-5.zip\n",
            "Resolving github.com (github.com)... 140.82.116.3\n",
            "Connecting to github.com (github.com)|140.82.116.3|:443... connected.\n",
            "HTTP request sent, awaiting response... 302 Found\n",
            "Location: https://raw.githubusercontent.com/aSafarpoor/storehouse/main/1000-5.zip [following]\n",
            "--2024-04-29 05:22:53--  https://raw.githubusercontent.com/aSafarpoor/storehouse/main/1000-5.zip\n",
            "Resolving raw.githubusercontent.com (raw.githubusercontent.com)... 185.199.108.133, 185.199.109.133, 185.199.110.133, ...\n",
            "Connecting to raw.githubusercontent.com (raw.githubusercontent.com)|185.199.108.133|:443... connected.\n",
            "HTTP request sent, awaiting response... 200 OK\n",
            "Length: 262830 (257K) [application/zip]\n",
            "Saving to: ‘1000-5.zip’\n",
            "\n",
            "\r1000-5.zip            0%[                    ]       0  --.-KB/s               \r1000-5.zip          100%[===================>] 256.67K  --.-KB/s    in 0.02s   \n",
            "\n",
            "2024-04-29 05:22:53 (13.3 MB/s) - ‘1000-5.zip’ saved [262830/262830]\n",
            "\n"
          ]
        }
      ],
      "source": [
        "!wget https://github.com/aSafarpoor/storehouse/raw/main/1000-5.zip"
      ]
    },
    {
      "cell_type": "code",
      "source": [
        "!unzip 1000-5.zip"
      ],
      "metadata": {
        "colab": {
          "base_uri": "https://localhost:8080/"
        },
        "id": "1uIucR0IScGt",
        "outputId": "9b27184a-9da8-4bc8-886e-179fce9338aa"
      },
      "execution_count": 11,
      "outputs": [
        {
          "output_type": "stream",
          "name": "stdout",
          "text": [
            "Archive:  1000-5.zip\n",
            "replace BA-1000-5-benignNodes.txt? [y]es, [n]o, [A]ll, [N]one, [r]ename: A\n",
            " extracting: BA-1000-5-benignNodes.txt  \n",
            " extracting: random-1000-5-benignNodes.txt  \n",
            " extracting: BFS-1000-5-benignNodes.txt  \n",
            " extracting: BA-1000-5-sybilNodes.txt  \n",
            " extracting: random-1000-5-sybilNodes.txt  \n",
            " extracting: BFS-1000-5-sybilNodes.txt  \n",
            " extracting: BA-1000-5-allEdges.txt  \n",
            " extracting: random-1000-5-allEdges.txt  \n",
            " extracting: BFS-1000-5-allEdges.txt  \n"
          ]
        }
      ]
    },
    {
      "cell_type": "code",
      "source": [
        "def readNodeFile(filename):\n",
        "    with open(filename, 'r') as file:\n",
        "        # Convert each line from string to float, then to integer\n",
        "        nodes = [int(float(line.strip())) for line in file]\n",
        "    return nodes\n",
        "\n",
        "def readEdgeFile(filename):\n",
        "    with open(filename, 'r') as file:\n",
        "        # Convert each part of the line from string to float, then to integer\n",
        "        edges = [tuple(int(float(part)) for part in line.strip().split(', ')) for line in file]\n",
        "    return edges\n",
        "\n",
        "def readAllFiles(directory):\n",
        "    data = {}\n",
        "\n",
        "    # List all files in the directory\n",
        "    for filename in os.listdir(directory):\n",
        "        if filename.endswith(\".txt\"):\n",
        "            full_path = os.path.join(directory, filename)\n",
        "\n",
        "            # Check the type of data and read accordingly\n",
        "            if 'benignNodes' in filename or 'sybilNodes' in filename:\n",
        "                data[filename] = readNodeFile(full_path)\n",
        "            elif 'allEdges' in filename:\n",
        "                data[filename] = readEdgeFile(full_path)\n",
        "\n",
        "    return data\n"
      ],
      "metadata": {
        "id": "uWO7UNTnTQs8"
      },
      "execution_count": 36,
      "outputs": []
    },
    {
      "cell_type": "code",
      "source": [
        "allFileData = readAllFiles('.')\n",
        "\n",
        "# Print the data to check it\n",
        "for file_name, contents in allFileData.items():\n",
        "    print(f\"Contents of {file_name}:\")\n"
      ],
      "metadata": {
        "colab": {
          "base_uri": "https://localhost:8080/"
        },
        "id": "lRQ7tfWSUxGZ",
        "outputId": "a0738a59-e397-4e11-9a7e-282adf565d8f"
      },
      "execution_count": 37,
      "outputs": [
        {
          "output_type": "stream",
          "name": "stdout",
          "text": [
            "Contents of random-1000-5-benignNodes.txt:\n",
            "Contents of random-1000-5-sybilNodes.txt:\n",
            "Contents of BFS-1000-5-allEdges.txt:\n",
            "Contents of BA-1000-5-allEdges.txt:\n",
            "Contents of BFS-1000-5-benignNodes.txt:\n",
            "Contents of BFS-1000-5-sybilNodes.txt:\n",
            "Contents of BA-1000-5-sybilNodes.txt:\n",
            "Contents of random-1000-5-allEdges.txt:\n",
            "Contents of BA-1000-5-benignNodes.txt:\n"
          ]
        }
      ]
    },
    {
      "cell_type": "markdown",
      "source": [
        "# RW"
      ],
      "metadata": {
        "id": "jbqoxAQDWgfC"
      }
    },
    {
      "cell_type": "markdown",
      "source": [
        "based on https://github.com/aSafarpoor/WhatIDoTheseDays/blob/main/oldercodes/Datasets%20propagation%20-%203%20important%20dataset%20and%20run%20sample.ipynb"
      ],
      "metadata": {
        "id": "XdFAXD9iWyOP"
      }
    },
    {
      "cell_type": "code",
      "source": [
        "class MSG_Propagation:\n",
        "    def __init__(self,nodes,edges,initbenigns,initsybils,percentageoftrain=0.1,\n",
        "                 is_directed = False, to_right=True,\n",
        "                 is_A2 = False,\n",
        "                 is_Weighted_Jaccard_Index_by_A = False,\n",
        "                 is_Weighted_just_Jaccard=False):\n",
        "        self.nodes = nodes\n",
        "        self.edges = edges\n",
        "        self.pmatrix = np.zeros(len(self.nodes))\n",
        "        self.pmatrix = self.pmatrix.reshape((-1,1))\n",
        "\n",
        "        self.A = np.zeros((len(nodes),len(nodes)))\n",
        "        if not is_directed:\n",
        "            for e in edges:\n",
        "                self.A[e[0],e[1]] = 1\n",
        "                self.A[e[1],e[0]] = 1\n",
        "        else:\n",
        "            if to_right:\n",
        "                for e in edges:\n",
        "                    self.A[e[0],e[1]] = 1\n",
        "            else:\n",
        "                for e in edges:\n",
        "                    self.A[e[1],e[0]] = 1\n",
        "        if is_A2:\n",
        "            self.A = np.dot(self.A,self.A)\n",
        "\n",
        "        if is_Weighted_Jaccard_Index_by_A:\n",
        "            self.compute_Jaccard_of_matrix_based_on_A()\n",
        "            self.A = self.A * self.Jaccard\n",
        "\n",
        "        elif is_Weighted_just_Jaccard:\n",
        "            self.compute_Jaccard_of_matrix_as_A()\n",
        "\n",
        "        #normalization phase\n",
        "        row_sums = self.A.sum(axis=0)  # Calculate the sum of each row\n",
        "\n",
        "        for i in range(len(self.A)):\n",
        "            if row_sums[i] > 0:\n",
        "                self.A[i,:] /= row_sums[i]\n",
        "\n",
        "        random.shuffle(initbenigns)\n",
        "        random.shuffle(initsybils)\n",
        "\n",
        "        self.btrain = initbenigns[:int(len(initbenigns)*percentageoftrain)]\n",
        "        self.btest = initbenigns[int(len(initbenigns)*percentageoftrain):]\n",
        "        self.strain = initsybils[:int(len(initsybils)*percentageoftrain)]\n",
        "        self.stest = initsybils[int(len(initsybils)*percentageoftrain):]\n",
        "        print(\"#train= b , s = \",len(self.btrain),' , ',len(self.strain))\n",
        "\n",
        "    def compute_Jaccard_of_matrix_based_on_A(self):\n",
        "        A = np.zeros((len(self.nodes), len(self.nodes)))\n",
        "\n",
        "        # Calculate the dot product of the adjacency matrix with its transpose\n",
        "        dot_product = np.dot(self.A, self.A.T)\n",
        "\n",
        "        # Calculate the sum of each row of the adjacency matrix\n",
        "        row_sums = self.A.sum(axis=1)\n",
        "\n",
        "        for i in tqdm(range(len(A))):\n",
        "            for j in range(i, len(A)):\n",
        "                if self.A[i][j] > 0:\n",
        "                    # Calculate the Jaccard index\n",
        "                    intersection = dot_product[i, j]\n",
        "                    union = row_sums[i] + row_sums[j] - intersection\n",
        "\n",
        "                    if union == 0:\n",
        "                        A[i, j] = A[j, i] = 0\n",
        "                    else:\n",
        "                        A[i, j] = A[j, i] = intersection / union\n",
        "\n",
        "        np.fill_diagonal(A, 1)  # Set diagonal elements to 1\n",
        "        self.Jaccard = A\n",
        "\n",
        "    def compute_Jaccard_of_matrix_as_A(self):\n",
        "        A = np.zeros((len(self.nodes), len(self.nodes)))\n",
        "\n",
        "        # Calculate the dot product of the adjacency matrix with its transpose\n",
        "        dot_product = np.dot(self.A, self.A.T)\n",
        "\n",
        "        # Calculate the sum of each row of the adjacency matrix\n",
        "        row_sums = self.A.sum(axis=1)\n",
        "\n",
        "        for i in tqdm(range(len(A))):\n",
        "            for j in range(i, len(A)):\n",
        "\n",
        "                # Calculate the Jaccard index\n",
        "                intersection = dot_product[i, j]\n",
        "                union = row_sums[i] + row_sums[j] - intersection\n",
        "\n",
        "                if union == 0:\n",
        "                    A[i, j] = A[j, i] = 0\n",
        "                else:\n",
        "                    A[i, j] = A[j, i] = intersection / union\n",
        "\n",
        "        np.fill_diagonal(A, 1)  # Set diagonal elements to 1\n",
        "        self.Jaccard = A\n",
        "        self.A = A\n",
        "\n",
        "    def msg_prop(self,sybilval,beningval,rounds=5,alpha = 1,unknownval=0):\n",
        "        self.rounds = rounds\n",
        "        self.alpha = alpha\n",
        "        pmatrix = np.ones(len(self.nodes)) * unknownval\n",
        "        pmatrix = pmatrix.reshape((-1,1))\n",
        "        value_list = []\n",
        "        value_list.append(pmatrix[:])\n",
        "        for x in self.btrain:\n",
        "            pmatrix[x] = beningval\n",
        "        for x in self.strain:\n",
        "            pmatrix[x] = sybilval\n",
        "        for i in range(rounds):\n",
        "            pnew = np.dot(self.A,pmatrix)\n",
        "            pmatrix = (1-alpha)* pmatrix + alpha* np.copy(pnew)\n",
        "            value_list.append(pmatrix[:])\n",
        "        # return pmatrix\n",
        "        return value_list\n",
        "\n",
        "    def test(self,value_list,th):\n",
        "        btest = self.btest\n",
        "        stest = self.stest\n",
        "\n",
        "        output = np.array(value_list)[-1].reshape(-1)\n",
        "\n",
        "        tb = fb = ts = fs = 0\n",
        "        for i in btest:\n",
        "            x = output[i]\n",
        "            if x > th:\n",
        "                tb += 1\n",
        "            else:\n",
        "                fs += 1\n",
        "\n",
        "        for i in stest:\n",
        "            x = output[i]\n",
        "            if x > th:\n",
        "                fb += 1\n",
        "            else:\n",
        "                ts += 1\n",
        "\n",
        "        acc = (tb+ts)/(len(btest)+len(stest))\n",
        "\n",
        "        def changelen(string):\n",
        "            spaces_to_add = 6 - len(string)\n",
        "            return \" \" * spaces_to_add + string\n",
        "        tb = changelen(str(tb))\n",
        "        fb = changelen(str(fb))\n",
        "        ts = changelen(str(ts))\n",
        "        fs = changelen(str(fs))\n",
        "\n",
        "        print(\"#rounds=\",self.rounds)\n",
        "        print(\"alpha=  \",self.alpha)\n",
        "        print(\"acc: \", acc)\n",
        "        print(\"\")\n",
        "        print(\"      |    t     |    f     |\")\n",
        "        print(\"------|----------|----------|\")\n",
        "        print(\"   b  |  {:>6}  |  {:>6}  |\".format(tb, fb))\n",
        "        print(\"------|----------|----------|\")\n",
        "        print(\"   s  |  {:>6}  |  {:>6}  |\".format(ts, fs))\n",
        "        print(\"------|----------|----------|\")\n",
        "\n",
        "        return acc"
      ],
      "metadata": {
        "id": "qvMEbNCOVBY5"
      },
      "execution_count": 32,
      "outputs": []
    },
    {
      "cell_type": "code",
      "source": [
        "titles = [\"random\",\"BA\",\"BFS\"]\n",
        "accList = {}\n",
        "\n",
        "for title in titles:\n",
        "    benignNodes = allFileData[title+\"-1000-5-benignNodes\"+\".txt\"]\n",
        "    sybilNodes = allFileData[title+\"-1000-5-sybilNodes\"+\".txt\"]\n",
        "    nodes = list(set(benignNodes) | set(sybilNodes))\n",
        "    edges = allFileData[title+\"-1000-5-allEdges\"+\".txt\"]\n",
        "    accList[title] = []\n",
        "    for roundnumber in tqdm(range(0,50,3)):\n",
        "        smsgp = MSG_Propagation(nodes,\n",
        "                                edges,percentageoftrain=0.5,\n",
        "                                initbenigns=benignNodes,\n",
        "                                initsybils=sybilNodes,\n",
        "                                is_directed = True,\n",
        "                                to_right=True,\n",
        "                                is_A2 = False,\n",
        "                                is_Weighted_Jaccard_Index_by_A = False,\n",
        "                                is_Weighted_just_Jaccard=False)\n",
        "        values = smsgp.msg_prop(rounds=roundnumber,alpha = 0.5,sybilval=-1,beningval=1,unknownval=0)\n",
        "        accList[title].append(smsgp.test(value_list=values,th=0))\n",
        "    print(title,\" : \",accList[title])"
      ],
      "metadata": {
        "id": "V5Ll4dMUVJ5L"
      },
      "execution_count": null,
      "outputs": []
    },
    {
      "cell_type": "code",
      "source": [
        "x_values = list(range(0, 50, 3))\n",
        "\n",
        "for label, values in accList.items():\n",
        "    plt.plot(x_values, values, label=label)\n",
        "\n",
        "# Adding title and labels\n",
        "plt.title('Accuracy Progression')\n",
        "plt.xlabel('Iteration (Steps of 2)')\n",
        "plt.ylabel('Accuracy')\n",
        "plt.legend(title='Algorithm')\n",
        "\n",
        "# Show the plot\n",
        "plt.show()"
      ],
      "metadata": {
        "colab": {
          "base_uri": "https://localhost:8080/",
          "height": 472
        },
        "id": "gg_dQKjcXU12",
        "outputId": "bf1082d9-83ca-4b05-f66a-ef0ce31eb025"
      },
      "execution_count": 53,
      "outputs": [
        {
          "output_type": "display_data",
          "data": {
            "text/plain": [
              "<Figure size 640x480 with 1 Axes>"
            ],
            "image/png": "[encoded data removed]"
          },
          "metadata": {}
        }
      ]
    },
    {
      "cell_type": "code",
      "source": [
        "for label, values in accList.items():\n",
        "    print(label,': ', max(values))"
      ],
      "metadata": {
        "colab": {
          "base_uri": "https://localhost:8080/"
        },
        "id": "N6IZ_Cq0XU7s",
        "outputId": "254e0991-3444-45b7-82ac-1b4ff8151b67"
      },
      "execution_count": 54,
      "outputs": [
        {
          "output_type": "stream",
          "name": "stdout",
          "text": [
            "random :  0.8316666666666667\n",
            "BA :  0.8283333333333334\n",
            "BFS :  0.8366666666666667\n"
          ]
        }
      ]
    },
    {
      "cell_type": "code",
      "source": [
        "x_values = list(range(0, 10, 3))\n",
        "\n",
        "for label, values in accList.items():\n",
        "    plt.plot(x_values, values[:len(x_values)], label=label)\n",
        "\n",
        "# Adding title and labels\n",
        "plt.title('Accuracy Progression')\n",
        "plt.xlabel('Iteration (Steps of 2)')\n",
        "plt.ylabel('Accuracy')\n",
        "plt.legend(title='Algorithm')\n",
        "\n",
        "# Show the plot\n",
        "plt.show()"
      ],
      "metadata": {
        "colab": {
          "base_uri": "https://localhost:8080/",
          "height": 472
        },
        "id": "aEQ_wQrpXXAU",
        "outputId": "d7c51c82-56e0-4f78-d306-d6e7c5e87dcc"
      },
      "execution_count": 55,
      "outputs": [
        {
          "output_type": "display_data",
          "data": {
            "text/plain": [
              "<Figure size 640x480 with 1 Axes>"
            ],
            "image/png": "[encoded data removed]"
          },
          "metadata": {}
        }
      ]
    },
    {
      "cell_type": "code",
      "source": [],
      "metadata": {
        "id": "H7ygIqo8ch6I"
      },
      "execution_count": 55,
      "outputs": []
    }
  ]
}