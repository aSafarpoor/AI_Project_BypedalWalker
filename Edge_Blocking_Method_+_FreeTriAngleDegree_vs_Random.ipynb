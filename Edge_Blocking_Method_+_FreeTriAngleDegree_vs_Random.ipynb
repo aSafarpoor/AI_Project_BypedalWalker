{
  "cells": [
    {
      "cell_type": "markdown",
      "metadata": {
        "id": "view-in-github",
        "colab_type": "text"
      },
      "source": [
        "<a href=\"https://colab.research.google.com/github/aSafarpoor/AI_Project_BypedalWalker/blob/master/Edge_Blocking_Method_%2B_FreeTriAngleDegree_vs_Random.ipynb\" target=\"_parent\"><img src=\"https://colab.research.google.com/assets/colab-badge.svg\" alt=\"Open In Colab\"/></a>"
      ]
    },
    {
      "cell_type": "code",
      "execution_count": 1,
      "metadata": {
        "id": "G7kDU-KThUbr"
      },
      "outputs": [],
      "source": [
        "from tqdm import tqdm\n",
        "import numpy as np\n",
        "import networkx as nx\n",
        "import random\n",
        "from matplotlib import pyplot as plt"
      ]
    },
    {
      "cell_type": "code",
      "execution_count": 2,
      "metadata": {
        "id": "POSEJ4tGkQp_"
      },
      "outputs": [],
      "source": [
        "number_of_initial_reds = 1\n",
        "max_time_of_staying_red = 3"
      ]
    },
    {
      "cell_type": "code",
      "source": [
        "!wget https://raw.githubusercontent.com/aSafarpoor/storehouse/main/dataset/facebook_combined.txt"
      ],
      "metadata": {
        "colab": {
          "base_uri": "https://localhost:8080/"
        },
        "id": "IudZyWtiFSau",
        "outputId": "475b4a6b-f9f2-409a-f1d5-03b113420f30"
      },
      "execution_count": 3,
      "outputs": [
        {
          "output_type": "stream",
          "name": "stdout",
          "text": [
            "--2023-09-09 14:14:27--  https://raw.githubusercontent.com/aSafarpoor/storehouse/main/dataset/facebook_combined.txt\n",
            "Resolving raw.githubusercontent.com (raw.githubusercontent.com)... 185.199.108.133, 185.199.109.133, 185.199.110.133, ...\n",
            "Connecting to raw.githubusercontent.com (raw.githubusercontent.com)|185.199.108.133|:443... connected.\n",
            "HTTP request sent, awaiting response... 200 OK\n",
            "Length: 854362 (834K) [text/plain]\n",
            "Saving to: ‘facebook_combined.txt’\n",
            "\n",
            "facebook_combined.t 100%[===================>] 834.34K  --.-KB/s    in 0.03s   \n",
            "\n",
            "2023-09-09 14:14:27 (32.3 MB/s) - ‘facebook_combined.txt’ saved [854362/854362]\n",
            "\n"
          ]
        }
      ]
    },
    {
      "cell_type": "code",
      "execution_count": 4,
      "metadata": {
        "id": "BMEVOuy8eK_d"
      },
      "outputs": [],
      "source": [
        "filename = \"facebook_combined.txt\"\n",
        "with open(filename) as f:\n",
        "    contents = f.read()"
      ]
    },
    {
      "cell_type": "code",
      "execution_count": 5,
      "metadata": {
        "colab": {
          "base_uri": "https://localhost:8080/"
        },
        "id": "UyNsm4BlgIU0",
        "outputId": "04610aa4-6d82-4452-bdf5-270d420783dd"
      },
      "outputs": [
        {
          "output_type": "stream",
          "name": "stderr",
          "text": [
            "100%|██████████| 88235/88235 [00:00<00:00, 433236.42it/s]"
          ]
        },
        {
          "output_type": "stream",
          "name": "stdout",
          "text": [
            "[]\n"
          ]
        },
        {
          "output_type": "stream",
          "name": "stderr",
          "text": [
            "\n"
          ]
        }
      ],
      "source": [
        "es = []\n",
        "vs = []\n",
        "es_half = []\n",
        "for i in tqdm(contents.split(\"\\n\")):\n",
        "    c = list(map(int,i.split()))\n",
        "    try:\n",
        "        es_half.append((c[0],c[1]))\n",
        "        es.append((c[0],c[1]))\n",
        "        es.append((c[1],c[0]))\n",
        "        vs.append(c[0])\n",
        "        vs.append(c[1])\n",
        "    except:\n",
        "        print(c)\n",
        "vs = list(set(vs))"
      ]
    },
    {
      "cell_type": "markdown",
      "metadata": {
        "id": "yXjv3sc8iCFx"
      },
      "source": [
        "uncolored ==> 0 (blue)\n",
        "\n",
        "spreader  ==> 1 (red)\n",
        "\n",
        "dontcare  ==> 2 (orange)"
      ]
    },
    {
      "cell_type": "code",
      "execution_count": 6,
      "metadata": {
        "id": "Kksq6-abgLry"
      },
      "outputs": [],
      "source": [
        "colors = np.zeros(len(vs))\n",
        "\n",
        "G = nx.Graph()\n",
        "G.add_edges_from(list(set(es)))\n",
        "\n",
        "first_run = False\n",
        "if first_run:\n",
        "    positions = nx.spring_layout(G)"
      ]
    },
    {
      "cell_type": "code",
      "execution_count": 7,
      "metadata": {
        "colab": {
          "base_uri": "https://localhost:8080/"
        },
        "id": "oucEu3eokrHg",
        "outputId": "051c4949-f0b9-4caf-80ed-aef055c9bfa9"
      },
      "outputs": [
        {
          "output_type": "stream",
          "name": "stderr",
          "text": [
            "100%|██████████| 4039/4039 [00:00<00:00, 1290432.20it/s]\n",
            "100%|██████████| 176468/176468 [00:00<00:00, 1514748.07it/s]\n"
          ]
        }
      ],
      "source": [
        "am = {}\n",
        "for i in tqdm(vs):\n",
        "    am[i] = []\n",
        "for i in tqdm(es):\n",
        "    am[i[0]].append(i[1])\n",
        "    am[i[1]].append(i[0])"
      ]
    },
    {
      "cell_type": "code",
      "source": [
        "for v in tqdm(vs):\n",
        "    am[v] = list(set(am[v]))"
      ],
      "metadata": {
        "colab": {
          "base_uri": "https://localhost:8080/"
        },
        "id": "S0Ukacd9MxuJ",
        "outputId": "f87906ff-838e-4ee7-c2df-fe267831051c"
      },
      "execution_count": 8,
      "outputs": [
        {
          "output_type": "stream",
          "name": "stderr",
          "text": [
            "100%|██████████| 4039/4039 [00:00<00:00, 207694.31it/s]\n"
          ]
        }
      ]
    },
    {
      "cell_type": "code",
      "execution_count": 9,
      "metadata": {
        "id": "5u_P_E0pjwxP"
      },
      "outputs": [],
      "source": [
        "def init_color(colors,vs,number_of_initial_reds):\n",
        "    init_reds = random.sample(vs,number_of_initial_reds)\n",
        "    for i in init_reds:\n",
        "        colors[i] = 1\n",
        "    return colors\n",
        "\n",
        "init_colors = init_color(colors,vs,number_of_initial_reds)\n"
      ]
    },
    {
      "cell_type": "code",
      "execution_count": 10,
      "metadata": {
        "id": "LwAmuSiL9woH"
      },
      "outputs": [],
      "source": [
        "def s_function(i,j):\n",
        "    x = am[i]\n",
        "    y = am[j]\n",
        "    A=list(set(x)|set(y)) # union\n",
        "    B=list(set(x)&set(y)) # intersection\n",
        "    return (len(B)+2)/len(A)\n",
        "\n",
        "w = {}\n",
        "for e in es:\n",
        "    i = e[0]\n",
        "    j = e[1]\n",
        "    temp = s_function(i,j)\n",
        "    w[(i,j)]= temp\n",
        "    w[(j,i)]= temp\n",
        "\n",
        "\n",
        "def p_star(w,times,am,i,j):\n",
        "    try:\n",
        "        p=(1-w[(i,j)]/2**(max_time_of_staying_red-times[j]))\n",
        "    except:\n",
        "        print(i,j,times[j])\n",
        "        assert 1==0\n",
        "    return p"
      ]
    },
    {
      "cell_type": "code",
      "source": [
        "def random_edges(am,probability_of_removing_edge=0.1):\n",
        "    edge_removed_counter = 0\n",
        "    am2 = {}\n",
        "    for i in list(am.keys()):\n",
        "        am2[i]=[]\n",
        "    for i in list(am.keys()):\n",
        "        js = am[i]\n",
        "        for j in js:\n",
        "            if random.random() > probability_of_removing_edge:\n",
        "                am2[i].append(j)\n",
        "            else:\n",
        "                edge_removed_counter+=1\n",
        "    print(edge_removed_counter)\n",
        "    return am2"
      ],
      "metadata": {
        "id": "pJZ7oS0lGYD6"
      },
      "execution_count": 46,
      "outputs": []
    },
    {
      "cell_type": "code",
      "source": [
        "treeangledegreedictionart = nx.triangles(G)"
      ],
      "metadata": {
        "id": "BWSeUBuIOZKF"
      },
      "execution_count": 47,
      "outputs": []
    },
    {
      "cell_type": "code",
      "source": [
        "def triangle_degree(am,probability_of_removing_edge):\n",
        "    am2 = {}\n",
        "    for i in list(am.keys()):\n",
        "        am2[i]=[]\n",
        "\n",
        "    templist = []\n",
        "    for e in es:\n",
        "        templist.append(treeangledegreedictionart[e[0]]+treeangledegreedictionart[e[1]])\n",
        "    templist.sort()\n",
        "\n",
        "    th = templist[2*int(-probability_of_removing_edge*len(templist))]\n",
        "    edge_removed_counter = 0\n",
        "    for i in list(am.keys()):\n",
        "        js = am[i]\n",
        "        for j in js:\n",
        "            wij = treeangledegreedictionart[e[0]]+treeangledegreedictionart[e[1]]\n",
        "            if th < wij:\n",
        "                am2[i].append(j)\n",
        "            else:\n",
        "                edge_removed_counter+=1\n",
        "    print(edge_removed_counter)\n",
        "    return am2"
      ],
      "metadata": {
        "id": "gdi7qfcImpuN"
      },
      "execution_count": 67,
      "outputs": []
    },
    {
      "cell_type": "code",
      "execution_count": 68,
      "metadata": {
        "id": "5stx09WD43FZ"
      },
      "outputs": [],
      "source": [
        "def model(edge_blocking_function,colors,s,probability_of_removing_edge):\n",
        "    times = np.ones(len(vs))*max_time_of_staying_red\n",
        "    colors2 = np.array(colors)\n",
        "    r = number_of_initial_reds\n",
        "    rounds = 0\n",
        "    am2 = edge_blocking_function(am,probability_of_removing_edge)\n",
        "\n",
        "    tempsum = 0\n",
        "    for v in vs:\n",
        "        tempsum += len(am2[v])\n",
        "    # print(tempsum)\n",
        "\n",
        "    while(r>0):\n",
        "        rounds+=1\n",
        "        r = o = g = 0\n",
        "        for v in vs:\n",
        "            if colors[v] == 0:\n",
        "                flag = False\n",
        "                for n in am2[v]:\n",
        "                    if colors[n]==1:\n",
        "                        if random.random()<p_star(s,times,am,v,n):\n",
        "                            flag=True\n",
        "                if flag:\n",
        "                        colors2[v]=1\n",
        "                        r+=1\n",
        "                else:\n",
        "                    g+=1\n",
        "\n",
        "            elif colors[v] == 1:\n",
        "                if times[v]>0:\n",
        "                    times[v]-=1\n",
        "                    r+=1\n",
        "                else:\n",
        "                    colors2[v]=2\n",
        "                    o+=1\n",
        "            elif colors[v] == 2:\n",
        "                o+=1\n",
        "\n",
        "        colors = np.copy(colors2[:])\n",
        "\n",
        "    return colors,rounds"
      ]
    },
    {
      "cell_type": "code",
      "source": [
        "tentimes_pstar = []\n",
        "for __ in tqdm(range(10)):\n",
        "    colors,rounds = model(triangle_degree,init_colors[:],w,probability_of_removing_edge=0.2)\n",
        "    tentimes_pstar.append(rounds)\n",
        "\n",
        "print(\"\")\n",
        "freetriangle_model = np.average(tentimes_pstar)\n",
        "print(freetriangle_model)"
      ],
      "metadata": {
        "colab": {
          "base_uri": "https://localhost:8080/"
        },
        "id": "DoKZCciOhUCK",
        "outputId": "d7fdd871-2de4-41ea-be77-fb41875e7880"
      },
      "execution_count": 69,
      "outputs": [
        {
          "output_type": "stream",
          "name": "stderr",
          "text": [
            " 20%|██        | 2/10 [00:00<00:00,  8.06it/s]"
          ]
        },
        {
          "output_type": "stream",
          "name": "stdout",
          "text": [
            "176468\n",
            "176468\n"
          ]
        },
        {
          "output_type": "stream",
          "name": "stderr",
          "text": [
            " 40%|████      | 4/10 [00:00<00:00,  8.36it/s]"
          ]
        },
        {
          "output_type": "stream",
          "name": "stdout",
          "text": [
            "176468\n",
            "176468\n"
          ]
        },
        {
          "output_type": "stream",
          "name": "stderr",
          "text": [
            " 60%|██████    | 6/10 [00:00<00:00,  8.15it/s]"
          ]
        },
        {
          "output_type": "stream",
          "name": "stdout",
          "text": [
            "176468\n",
            "176468\n"
          ]
        },
        {
          "output_type": "stream",
          "name": "stderr",
          "text": [
            " 80%|████████  | 8/10 [00:00<00:00,  8.29it/s]"
          ]
        },
        {
          "output_type": "stream",
          "name": "stdout",
          "text": [
            "176468\n",
            "176468\n"
          ]
        },
        {
          "output_type": "stream",
          "name": "stderr",
          "text": [
            "100%|██████████| 10/10 [00:01<00:00,  8.04it/s]"
          ]
        },
        {
          "output_type": "stream",
          "name": "stdout",
          "text": [
            "176468\n",
            "176468\n",
            "\n",
            "4.0\n"
          ]
        },
        {
          "output_type": "stream",
          "name": "stderr",
          "text": [
            "\n"
          ]
        }
      ]
    },
    {
      "cell_type": "code",
      "source": [
        "tentimes_pstar = []\n",
        "for __ in tqdm(range(10)):\n",
        "    colors,rounds = model(random_edges,init_colors[:],w,probability_of_removing_edge=0.2)\n",
        "    tentimes_pstar.append(rounds)\n",
        "\n",
        "print(\"\")\n",
        "random_model = np.average(tentimes_pstar)\n",
        "print(random_model)"
      ],
      "metadata": {
        "colab": {
          "base_uri": "https://localhost:8080/"
        },
        "id": "2tZa_oL4iblI",
        "outputId": "01778da6-bf24-4b59-82bb-22a460448b38"
      },
      "execution_count": 70,
      "outputs": [
        {
          "output_type": "stream",
          "name": "stderr",
          "text": [
            " 10%|█         | 1/10 [00:00<00:01,  5.84it/s]"
          ]
        },
        {
          "output_type": "stream",
          "name": "stdout",
          "text": [
            "35485\n",
            "35532\n"
          ]
        },
        {
          "output_type": "stream",
          "name": "stderr",
          "text": [
            " 30%|███       | 3/10 [00:00<00:01,  5.96it/s]"
          ]
        },
        {
          "output_type": "stream",
          "name": "stdout",
          "text": [
            "35321\n",
            "35553\n"
          ]
        },
        {
          "output_type": "stream",
          "name": "stderr",
          "text": [
            " 50%|█████     | 5/10 [00:00<00:00,  5.68it/s]"
          ]
        },
        {
          "output_type": "stream",
          "name": "stdout",
          "text": [
            "35231\n",
            "35124\n"
          ]
        },
        {
          "output_type": "stream",
          "name": "stderr",
          "text": [
            " 70%|███████   | 7/10 [00:01<00:00,  5.69it/s]"
          ]
        },
        {
          "output_type": "stream",
          "name": "stdout",
          "text": [
            "35231\n",
            "35455\n"
          ]
        },
        {
          "output_type": "stream",
          "name": "stderr",
          "text": [
            " 90%|█████████ | 9/10 [00:01<00:00,  5.76it/s]"
          ]
        },
        {
          "output_type": "stream",
          "name": "stdout",
          "text": [
            "35018\n",
            "35330\n"
          ]
        },
        {
          "output_type": "stream",
          "name": "stderr",
          "text": [
            "100%|██████████| 10/10 [00:01<00:00,  5.73it/s]"
          ]
        },
        {
          "output_type": "stream",
          "name": "stdout",
          "text": [
            "\n",
            "13.8\n"
          ]
        },
        {
          "output_type": "stream",
          "name": "stderr",
          "text": [
            "\n"
          ]
        }
      ]
    },
    {
      "cell_type": "code",
      "source": [
        "tentimes_pstar = []\n",
        "for __ in tqdm(range(10)):\n",
        "    colors,rounds = model(random_edges,init_colors[:],w,probability_of_removing_edge=0.2)\n",
        "    tentimes_pstar.append(rounds)\n",
        "\n",
        "print(\"\")\n",
        "random_model = np.average(tentimes_pstar)\n",
        "print(random_model)"
      ],
      "metadata": {
        "id": "CRJcYTR1rGoa",
        "colab": {
          "base_uri": "https://localhost:8080/"
        },
        "outputId": "7dae354c-a374-4090-ed77-0dc7da6fa841"
      },
      "execution_count": 60,
      "outputs": [
        {
          "output_type": "stream",
          "name": "stderr",
          "text": [
            " 10%|█         | 1/10 [00:00<00:01,  5.63it/s]"
          ]
        },
        {
          "output_type": "stream",
          "name": "stdout",
          "text": [
            "34877\n",
            "141591\n",
            "35246\n",
            "141222\n"
          ]
        },
        {
          "output_type": "stream",
          "name": "stderr",
          "text": [
            " 30%|███       | 3/10 [00:00<00:01,  5.91it/s]"
          ]
        },
        {
          "output_type": "stream",
          "name": "stdout",
          "text": [
            "35086\n",
            "141382\n",
            "35339\n",
            "141129\n"
          ]
        },
        {
          "output_type": "stream",
          "name": "stderr",
          "text": [
            " 50%|█████     | 5/10 [00:00<00:00,  6.03it/s]"
          ]
        },
        {
          "output_type": "stream",
          "name": "stdout",
          "text": [
            "35264\n",
            "141204\n",
            "35126\n",
            "141342\n"
          ]
        },
        {
          "output_type": "stream",
          "name": "stderr",
          "text": [
            " 70%|███████   | 7/10 [00:01<00:00,  5.97it/s]"
          ]
        },
        {
          "output_type": "stream",
          "name": "stdout",
          "text": [
            "35495\n",
            "140973\n",
            "35606\n",
            "140862\n"
          ]
        },
        {
          "output_type": "stream",
          "name": "stderr",
          "text": [
            " 90%|█████████ | 9/10 [00:01<00:00,  5.94it/s]"
          ]
        },
        {
          "output_type": "stream",
          "name": "stdout",
          "text": [
            "35316\n",
            "141152\n",
            "35169\n",
            "141299\n"
          ]
        },
        {
          "output_type": "stream",
          "name": "stderr",
          "text": [
            "100%|██████████| 10/10 [00:01<00:00,  5.94it/s]"
          ]
        },
        {
          "output_type": "stream",
          "name": "stdout",
          "text": [
            "\n",
            "13.7\n"
          ]
        },
        {
          "output_type": "stream",
          "name": "stderr",
          "text": [
            "\n"
          ]
        }
      ]
    },
    {
      "cell_type": "code",
      "execution_count": 25,
      "metadata": {
        "id": "asQe_7Kc_tL8"
      },
      "outputs": [],
      "source": [
        "# bit_cent = nx.betweenness_centrality(G,normalized=True)\n",
        "# bval = np.array(list(bit_cent.values()))\n",
        "# edge_bit_cent = nx.edge_betweenness_centrality(G, normalized=True)"
      ]
    },
    {
      "cell_type": "code",
      "source": [],
      "metadata": {
        "id": "Et7wnl1iUEyo"
      },
      "execution_count": null,
      "outputs": []
    }
  ],
  "metadata": {
    "colab": {
      "provenance": [],
      "gpuType": "T4",
      "authorship_tag": "ABX9TyOHfQ0a9cDACPLs0ugva5rf",
      "include_colab_link": true
    },
    "kernelspec": {
      "display_name": "Python 3",
      "name": "python3"
    },
    "language_info": {
      "name": "python"
    },
    "accelerator": "GPU"
  },
  "nbformat": 4,
  "nbformat_minor": 0
}