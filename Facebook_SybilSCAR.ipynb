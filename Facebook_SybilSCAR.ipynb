{
  "nbformat": 4,
  "nbformat_minor": 0,
  "metadata": {
    "colab": {
      "provenance": [],
      "authorship_tag": "ABX9TyPCkvmcSDRDszu80v1naida",
      "include_colab_link": true
    },
    "kernelspec": {
      "name": "python3",
      "display_name": "Python 3"
    },
    "language_info": {
      "name": "python"
    }
  },
  "cells": [
    {
      "cell_type": "markdown",
      "metadata": {
        "id": "view-in-github",
        "colab_type": "text"
      },
      "source": [
        "<a href=\"https://colab.research.google.com/github/aSafarpoor/AI_Project_BypedalWalker/blob/master/Facebook_SybilSCAR.ipynb\" target=\"_parent\"><img src=\"https://colab.research.google.com/assets/colab-badge.svg\" alt=\"Open In Colab\"/></a>"
      ]
    },
    {
      "cell_type": "code",
      "execution_count": 1,
      "metadata": {
        "id": "kS36ItODd37N"
      },
      "outputs": [],
      "source": [
        "from tqdm import tqdm\n",
        "import numpy as np\n",
        "from matplotlib import pyplot as plt\n",
        "\n",
        "import random\n",
        "random.seed(1)"
      ]
    },
    {
      "cell_type": "markdown",
      "source": [
        "# Read Dataset"
      ],
      "metadata": {
        "id": "Rwlu0uWm-1qc"
      }
    },
    {
      "cell_type": "code",
      "source": [
        "from google.colab import drive\n",
        "drive.mount('/content/drive')"
      ],
      "metadata": {
        "colab": {
          "base_uri": "https://localhost:8080/"
        },
        "id": "5VUvacXxeKeh",
        "outputId": "1bab1da9-e640-4034-e62f-2cc597cb8bae"
      },
      "execution_count": 2,
      "outputs": [
        {
          "output_type": "stream",
          "name": "stdout",
          "text": [
            "Mounted at /content/drive\n"
          ]
        }
      ]
    },
    {
      "cell_type": "code",
      "source": [
        "%cd drive/MyDrive/datasets/SybilSCAR/"
      ],
      "metadata": {
        "colab": {
          "base_uri": "https://localhost:8080/"
        },
        "id": "mMvsWKpfePrA",
        "outputId": "80c05daf-862a-44d4-8797-9949c78cdd71"
      },
      "execution_count": 3,
      "outputs": [
        {
          "output_type": "stream",
          "name": "stdout",
          "text": [
            "/content/drive/MyDrive/datasets/SybilSCAR\n"
          ]
        }
      ]
    },
    {
      "cell_type": "code",
      "source": [
        "!ls"
      ],
      "metadata": {
        "colab": {
          "base_uri": "https://localhost:8080/"
        },
        "id": "Vu7lFRcted8y",
        "outputId": "a79c9252-d717-4b6e-d12d-fc1c949a0d1c"
      },
      "execution_count": 4,
      "outputs": [
        {
          "output_type": "stream",
          "name": "stdout",
          "text": [
            "Directed_Pokec\tREADME_SybilSCAR.md  Undirected_Facebook\n"
          ]
        }
      ]
    },
    {
      "cell_type": "code",
      "source": [
        "%cd Undirected_Facebook/"
      ],
      "metadata": {
        "colab": {
          "base_uri": "https://localhost:8080/"
        },
        "id": "5xZpo0a3ee4B",
        "outputId": "c88d7e7a-f923-4dd0-9f18-cc283418bf3f"
      },
      "execution_count": 5,
      "outputs": [
        {
          "output_type": "stream",
          "name": "stdout",
          "text": [
            "/content/drive/MyDrive/datasets/SybilSCAR/Undirected_Facebook\n"
          ]
        }
      ]
    },
    {
      "cell_type": "code",
      "source": [
        "!ls"
      ],
      "metadata": {
        "colab": {
          "base_uri": "https://localhost:8080/"
        },
        "id": "iF8sGw2Geht2",
        "outputId": "134fc8bc-e37d-4e91-de93-281eb96daff1"
      },
      "execution_count": 6,
      "outputs": [
        {
          "output_type": "stream",
          "name": "stdout",
          "text": [
            "Example.txt  graph.txt\ttest.txt  train.txt\n"
          ]
        }
      ]
    },
    {
      "cell_type": "code",
      "source": [
        "f = open(\"graph.txt\", \"r\")\n",
        "edges = []\n",
        "temp = []\n",
        "for i in tqdm(f.read().split(\"\\n\")):\n",
        "    try:\n",
        "        temp.append(i.split()[0])\n",
        "        temp.append(i.split()[1])\n",
        "        edges.append([int(temp[-1]),int(temp[-2])])\n",
        "    except:\n",
        "        pass"
      ],
      "metadata": {
        "colab": {
          "base_uri": "https://localhost:8080/"
        },
        "id": "J26ts8ZPeilC",
        "outputId": "4ab76713-788b-4770-80f5-e408399a9c59"
      },
      "execution_count": 7,
      "outputs": [
        {
          "output_type": "stream",
          "name": "stderr",
          "text": [
            "100%|██████████| 353137/353137 [00:00<00:00, 360085.79it/s]\n"
          ]
        }
      ]
    },
    {
      "cell_type": "code",
      "source": [
        "nodes = list(set(temp))"
      ],
      "metadata": {
        "id": "kufwhbAFitNJ"
      },
      "execution_count": 8,
      "outputs": []
    },
    {
      "cell_type": "code",
      "source": [
        "nodes = list(map(int,list(set(nodes))))\n",
        "print(len(nodes))"
      ],
      "metadata": {
        "colab": {
          "base_uri": "https://localhost:8080/"
        },
        "id": "UDisRjUoev6z",
        "outputId": "c1287363-92cc-4a7a-ae3f-a8b1fcffa9a4"
      },
      "execution_count": 9,
      "outputs": [
        {
          "output_type": "stream",
          "name": "stdout",
          "text": [
            "8078\n"
          ]
        }
      ]
    },
    {
      "cell_type": "code",
      "source": [
        "f = open(\"train.txt\", \"r\")\n",
        "[initbinign,initsybils] = f.read().split(\"\\n\")[:2]"
      ],
      "metadata": {
        "id": "0dpHJM1yg1Eu"
      },
      "execution_count": 10,
      "outputs": []
    },
    {
      "cell_type": "code",
      "source": [
        "initbinign = list(map(int,initbinign.split()))\n",
        "initsybils = list(map(int,initsybils.split()))"
      ],
      "metadata": {
        "id": "l2Ku3on7jepe"
      },
      "execution_count": 11,
      "outputs": []
    },
    {
      "cell_type": "code",
      "source": [
        "len(initbinign),len(initsybils)"
      ],
      "metadata": {
        "colab": {
          "base_uri": "https://localhost:8080/"
        },
        "id": "l1N6-Spig9C6",
        "outputId": "849389ef-c837-4bea-b438-3ea1754516fc"
      },
      "execution_count": 12,
      "outputs": [
        {
          "output_type": "execute_result",
          "data": {
            "text/plain": [
              "(100, 100)"
            ]
          },
          "metadata": {},
          "execution_count": 12
        }
      ]
    },
    {
      "cell_type": "code",
      "source": [
        "intersection = list(set(initbinign).intersection(set(initsybils)))\n",
        "print(len(intersection))\n",
        "intersection = list(set(nodes).intersection(set(initsybils)))\n",
        "print(len(intersection))\n",
        "intersection = list(set(nodes).intersection(set(initbinign)))\n",
        "print(len(intersection))"
      ],
      "metadata": {
        "colab": {
          "base_uri": "https://localhost:8080/"
        },
        "id": "-_9_eyDQhZ7_",
        "outputId": "88f55305-8f5d-4734-c215-8d93ccdfe10f"
      },
      "execution_count": 13,
      "outputs": [
        {
          "output_type": "stream",
          "name": "stdout",
          "text": [
            "0\n",
            "100\n",
            "100\n"
          ]
        }
      ]
    },
    {
      "cell_type": "markdown",
      "source": [
        "# Simple MassagePassing Test"
      ],
      "metadata": {
        "id": "aJussXBr-0eZ"
      }
    },
    {
      "cell_type": "code",
      "source": [
        "A = np.zeros((len(nodes),len(nodes)))\n",
        "degree = {}\n",
        "\n",
        "for e in tqdm(edges):\n",
        "    A[e[0],e[1]] = 1\n",
        "    A[e[1],e[0]] = 1\n",
        "\n",
        "i = 0\n",
        "for row in A:\n",
        "    degree[i] = np.sum(row)\n",
        "    i+=1"
      ],
      "metadata": {
        "id": "dIzk5jVGlQIP",
        "colab": {
          "base_uri": "https://localhost:8080/"
        },
        "outputId": "b5e72c50-6ec1-46d4-8256-6ff6ef2ca2d2"
      },
      "execution_count": 14,
      "outputs": [
        {
          "output_type": "stream",
          "name": "stderr",
          "text": [
            "100%|██████████| 353136/353136 [00:00<00:00, 775169.48it/s]\n"
          ]
        }
      ]
    },
    {
      "cell_type": "code",
      "source": [
        "round(sum(list(degree.values()))/len(degree),2)"
      ],
      "metadata": {
        "colab": {
          "base_uri": "https://localhost:8080/"
        },
        "id": "_yu4_2W1_Lbk",
        "outputId": "148e4c3a-dda6-445d-9e9d-b95f1453fcb1"
      },
      "execution_count": 15,
      "outputs": [
        {
          "output_type": "execute_result",
          "data": {
            "text/plain": [
              "43.72"
            ]
          },
          "metadata": {},
          "execution_count": 15
        }
      ]
    },
    {
      "cell_type": "code",
      "source": [
        "row_sums = A.sum(axis=0)  # Calculate the sum of each row\n",
        "A = A / row_sums[np.newaxis,:]"
      ],
      "metadata": {
        "id": "0efgaHLBFols"
      },
      "execution_count": 16,
      "outputs": []
    },
    {
      "cell_type": "code",
      "source": [
        "#test,train:\n",
        "random.shuffle(initbinign)\n",
        "random.shuffle(initsybils)\n",
        "\n",
        "btrain = initbinign[:50]\n",
        "btest = initbinign[50:]\n",
        "strain = initsybils[:50]\n",
        "stest = initsybils[50:]"
      ],
      "metadata": {
        "id": "M6D_hnXT_iNX"
      },
      "execution_count": 17,
      "outputs": []
    },
    {
      "cell_type": "code",
      "source": [
        "pmatrix = np.ones(len(nodes)) * 0.5\n",
        "pmatrix = pmatrix.reshape((-1,1))"
      ],
      "metadata": {
        "id": "3BbmnIRKARz2"
      },
      "execution_count": 18,
      "outputs": []
    },
    {
      "cell_type": "code",
      "source": [
        "for x in btrain:\n",
        "    pmatrix[x] = 0\n",
        "for x in strain:\n",
        "    pmatrix[x] = 1"
      ],
      "metadata": {
        "id": "oOWbdK8BBC4U"
      },
      "execution_count": 19,
      "outputs": []
    },
    {
      "cell_type": "code",
      "source": [
        "def msg_prop(A,pold,rounds=5,alpha = 1):\n",
        "    for i in range(rounds):\n",
        "        pnew = np.dot(A,pold)\n",
        "        pold = (1-alpha)* pold + alpha* np.copy(pnew)\n",
        "    return pnew"
      ],
      "metadata": {
        "id": "s0FTkYcoDZJ-"
      },
      "execution_count": 20,
      "outputs": []
    },
    {
      "cell_type": "code",
      "source": [
        "pnew = msg_prop(np.copy(A),np.copy(pmatrix),rounds=5,alpha=0.5)"
      ],
      "metadata": {
        "id": "ACQJk26eDilB"
      },
      "execution_count": 21,
      "outputs": []
    },
    {
      "cell_type": "code",
      "source": [
        "sum(pnew),sum(pmatrix)"
      ],
      "metadata": {
        "colab": {
          "base_uri": "https://localhost:8080/"
        },
        "id": "O_F8JOS6EXnx",
        "outputId": "97e6ac94-d60d-4205-eb94-658421f20139"
      },
      "execution_count": 22,
      "outputs": [
        {
          "output_type": "execute_result",
          "data": {
            "text/plain": [
              "(array([4039.]), array([4039.]))"
            ]
          },
          "metadata": {},
          "execution_count": 22
        }
      ]
    },
    {
      "cell_type": "code",
      "source": [
        "def thfunction(pmatrix,th,indexlist):\n",
        "    x = []\n",
        "    for i in indexlist:\n",
        "        if pmatrix[i]>th:\n",
        "            x.append(1)\n",
        "        elif pmatrix[i]<th:\n",
        "            x.append(0)\n",
        "        else:\n",
        "            x.append(0.5)\n",
        "    return np.array(x)"
      ],
      "metadata": {
        "id": "75WojI_yIXBw"
      },
      "execution_count": 23,
      "outputs": []
    },
    {
      "cell_type": "code",
      "source": [
        "for roundnumber in range(1,20,4):\n",
        "    for alpha in [0.1,0.3,0.5,0.7,1]:\n",
        "        pnew = msg_prop(np.copy(A),np.copy(pmatrix),rounds=roundnumber,alpha=alpha)\n",
        "\n",
        "        outb = thfunction(pnew,th=0.5,indexlist = btest)\n",
        "        outs = thfunction(pnew,th=0.5,indexlist = stest)\n",
        "\n",
        "        acc = round((len(outb)-sum(outb)+sum(outs))/(len(outb)+len(outs)),2)\n",
        "        print(roundnumber,alpha, \" ==> \",acc,sum(outb==0.5)+sum(outs==0.5))"
      ],
      "metadata": {
        "colab": {
          "base_uri": "https://localhost:8080/"
        },
        "id": "9bzzlKKrFOx7",
        "outputId": "d9b59bf7-ee45-4d29-af52-5f66ea16e0ca"
      },
      "execution_count": 24,
      "outputs": [
        {
          "output_type": "stream",
          "name": "stdout",
          "text": [
            "1 0.1  ==>  0.55 0\n",
            "1 0.3  ==>  0.55 0\n",
            "1 0.5  ==>  0.55 0\n",
            "1 0.7  ==>  0.55 0\n",
            "1 1  ==>  0.55 0\n",
            "41 0.1  ==>  0.5 0\n",
            "41 0.3  ==>  0.46 0\n",
            "41 0.5  ==>  0.46 0\n",
            "41 0.7  ==>  0.46 0\n",
            "41 1  ==>  0.47 0\n",
            "81 0.1  ==>  0.47 0\n",
            "81 0.3  ==>  0.46 0\n",
            "81 0.5  ==>  0.47 0\n",
            "81 0.7  ==>  0.46 0\n",
            "81 1  ==>  0.46 0\n",
            "121 0.1  ==>  0.46 0\n",
            "121 0.3  ==>  0.47 0\n",
            "121 0.5  ==>  0.46 0\n",
            "121 0.7  ==>  0.46 0\n",
            "121 1  ==>  0.46 0\n",
            "161 0.1  ==>  0.46 0\n",
            "161 0.3  ==>  0.46 0\n",
            "161 0.5  ==>  0.46 0\n",
            "161 0.7  ==>  0.46 0\n",
            "161 1  ==>  0.46 0\n"
          ]
        }
      ]
    },
    {
      "cell_type": "code",
      "source": [
        "import networkx as nx"
      ],
      "metadata": {
        "id": "wTPhD7GmJP2s"
      },
      "execution_count": 25,
      "outputs": []
    },
    {
      "cell_type": "code",
      "source": [
        "G = nx.Graph()\n",
        "G.add_nodes_from(nodes)\n",
        "G.add_edges_from(edges)\n",
        "\n",
        "# Define subsets B and S\n",
        "B = set(initbinign)\n",
        "S = set(initsybils)\n",
        "\n",
        "colored = B.union(S)\n",
        "neighbors = []\n",
        "# Iterate through the nodes in the list and find their neighbors\n",
        "for colorednode in colored:\n",
        "    for node in list(G.neighbors(colorednode)):\n",
        "        if node not in colored:\n",
        "            neighbors.append(node)\n",
        "\n",
        "neighbors = set(neighbors)\n",
        "len(colored),len(neighbors)"
      ],
      "metadata": {
        "colab": {
          "base_uri": "https://localhost:8080/"
        },
        "id": "5V-_mtYb87A2",
        "outputId": "73d4ae41-f98c-47ff-cc09-62306954312d"
      },
      "execution_count": 48,
      "outputs": [
        {
          "output_type": "execute_result",
          "data": {
            "text/plain": [
              "(200, 4015)"
            ]
          },
          "metadata": {},
          "execution_count": 48
        }
      ]
    },
    {
      "cell_type": "code",
      "source": [
        "subgraph = nx.Graph()\n",
        "\n",
        "subgraph_nodes = B.union(S).union(neighbors)\n",
        "\n",
        "subgraph_edges = [(u, v) for u, v in G.edges() if u in subgraph_nodes and v in subgraph_nodes]\n",
        "# subgraph_edges = [(u, v) for u, v in G.edges() if u in neighbors or v in neighbors]\n",
        "\n",
        "subgraph.add_nodes_from(subgraph_nodes)\n",
        "subgraph.add_edges_from(subgraph_edges)\n",
        "\n",
        "\n",
        "# Add nodes connected to B or S and the related edges to the new graph\n",
        "# for node in tqdm(subgraph_nodes):\n",
        "#     neighbors = set(G.neighbors(node))\n",
        "#     related_nodes = neighbors.intersection(subgraph_nodes)\n",
        "#     related_edges = [(node, neighbor) for neighbor in related_nodes]\n",
        "#     subgraph.add_nodes_from(related_nodes)\n",
        "#     subgraph.add_edges_from(related_edges)\n",
        "\n",
        "def remove_alone_nodes(graph):\n",
        "    alone_nodes = [node for node in graph.nodes() if graph.degree(node) == 0]\n",
        "    graph.remove_nodes_from(alone_nodes)\n",
        "    return graph\n",
        "\n",
        "# Remove alone nodes from graph A\n",
        "print(len(subgraph.nodes()))\n",
        "subgraph = remove_alone_nodes(subgraph)\n",
        "print(len(subgraph.nodes()))\n",
        "\n",
        "# Draw the subgraph with different colors for nodes in B, nodes in S, and related edges\n",
        "pos = nx.spring_layout(subgraph)  # You can use different layout algorithms\n",
        "nx.draw(subgraph, pos, node_color=['green' if node in B else 'red' if node in S else 'blue' for node in subgraph.nodes()],\n",
        "        edge_color=['black' if edge in subgraph_edges else 'gray' for edge in subgraph.edges()],node_size=10)\n",
        "plt.show()"
      ],
      "metadata": {
        "colab": {
          "base_uri": "https://localhost:8080/",
          "height": 551
        },
        "id": "DfpBHqP79Eyw",
        "outputId": "e8905e9c-14ad-4a0a-b5cf-dacecc9be29c"
      },
      "execution_count": 55,
      "outputs": [
        {
          "output_type": "stream",
          "name": "stdout",
          "text": [
            "210\n",
            "115\n"
          ]
        },
        {
          "output_type": "display_data",
          "data": {
            "text/plain": [
              "<Figure size 640x480 with 1 Axes>"
            ],
            "image/png": "[encoded data removed]"
          },
          "metadata": {}
        }
      ]
    },
    {
      "cell_type": "code",
      "source": [
        "subgraph = nx.Graph()\n",
        "\n",
        "subgraph_nodes = B.union(S).union(neighbors)\n",
        "\n",
        "subgraph_edges = [(u, v) for u, v in G.edges() if u in subgraph_nodes or v in subgraph_nodes]\n",
        "# subgraph_edges = [(u, v) for u, v in G.edges() if u in neighbors or v in neighbors]\n",
        "\n",
        "subgraph.add_nodes_from(subgraph_nodes)\n",
        "subgraph.add_edges_from(subgraph_edges)\n",
        "\n",
        "\n",
        "# Add nodes connected to B or S and the related edges to the new graph\n",
        "# for node in tqdm(subgraph_nodes):\n",
        "#     neighbors = set(G.neighbors(node))\n",
        "#     related_nodes = neighbors.intersection(subgraph_nodes)\n",
        "#     related_edges = [(node, neighbor) for neighbor in related_nodes]\n",
        "#     subgraph.add_nodes_from(related_nodes)\n",
        "#     subgraph.add_edges_from(related_edges)\n",
        "\n",
        "def remove_alone_nodes(graph):\n",
        "    alone_nodes = [node for node in graph.nodes() if graph.degree(node) == 0]\n",
        "    graph.remove_nodes_from(alone_nodes)\n",
        "    return graph\n",
        "\n",
        "# Remove alone nodes from graph A\n",
        "print(len(subgraph.nodes()))\n",
        "subgraph = remove_alone_nodes(subgraph)\n",
        "print(len(subgraph.nodes()))\n",
        "\n",
        "# Draw the subgraph with different colors for nodes in B, nodes in S, and related edges\n",
        "# pos = nx.spring_layout(subgraph)  # You can use different layout algorithms\n",
        "nx.draw(subgraph, node_color=['green' if node in B else 'red' if node in S else 'blue' for node in subgraph.nodes()],\n",
        "        edge_color=['black' if edge in subgraph_edges else 'gray' for edge in subgraph.edges()],node_size=10)\n",
        "plt.show()"
      ],
      "metadata": {
        "colab": {
          "base_uri": "https://localhost:8080/",
          "height": 551
        },
        "id": "gTaHYPdX-jND",
        "outputId": "7109e3a9-cab6-4a90-ba74-c16793c4900c"
      },
      "execution_count": 63,
      "outputs": [
        {
          "output_type": "stream",
          "name": "stdout",
          "text": [
            "4392\n",
            "4392\n"
          ]
        },
        {
          "output_type": "display_data",
          "data": {
            "text/plain": [
              "<Figure size 640x480 with 1 Axes>"
            ],
            "image/png": "[encoded data removed]"
          },
          "metadata": {}
        }
      ]
    },
    {
      "cell_type": "code",
      "source": [
        "def connected_components_info(graph):\n",
        "    connected_components = list(nx.connected_components(graph))\n",
        "    num_connected_components = len(connected_components)\n",
        "    sizes = [len(component) for component in connected_components]\n",
        "    return num_connected_components, sizes\n",
        "\n",
        "# Find the number of connected components and their sizes in graph A\n",
        "G = nx.Graph()\n",
        "G.add_nodes_from(nodes)\n",
        "G.add_edges_from(edges)\n",
        "num_components, component_sizes = connected_components_info(G)\n",
        "\n",
        "print(\"Number of connected components:\", num_components)\n",
        "print(\"Size of each connected component:\", component_sizes)"
      ],
      "metadata": {
        "colab": {
          "base_uri": "https://localhost:8080/"
        },
        "id": "y0KBWb9UBy-9",
        "outputId": "051f8fbb-bebb-46e8-9e5f-19addd8dd0ab"
      },
      "execution_count": 67,
      "outputs": [
        {
          "output_type": "stream",
          "name": "stdout",
          "text": [
            "Number of connected components: 1\n",
            "Size of each connected component: [8078]\n"
          ]
        }
      ]
    },
    {
      "cell_type": "code",
      "source": [
        "len(nodes),len(edges)"
      ],
      "metadata": {
        "colab": {
          "base_uri": "https://localhost:8080/"
        },
        "id": "OxcVflhNCExM",
        "outputId": "9fdfe0bb-b1c5-445e-9e7c-d19f086b23bc"
      },
      "execution_count": 68,
      "outputs": [
        {
          "output_type": "execute_result",
          "data": {
            "text/plain": [
              "(8078, 353136)"
            ]
          },
          "metadata": {},
          "execution_count": 68
        }
      ]
    }
  ]
}